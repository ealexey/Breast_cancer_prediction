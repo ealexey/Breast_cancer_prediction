{
 "cells": [
  {
   "cell_type": "code",
   "execution_count": 1,
   "id": "20d946cc",
   "metadata": {},
   "outputs": [],
   "source": [
    "#importing required packages\n",
    "import pandas as pd\n",
    "import numpy as np\n",
    "import matplotlib.pyplot as plt\n",
    "import seaborn as sn\n",
    "from sklearn.linear_model import LogisticRegression\n",
    "from sklearn.model_selection import train_test_split\n",
    "from sklearn.pipeline import Pipeline\n",
    "from sklearn.preprocessing import StandardScaler\n",
    "from sklearn.metrics import confusion_matrix\n",
    "from sklearn import metrics\n",
    "from sklearn.model_selection import RandomizedSearchCV\n",
    "from sklearn.tree import DecisionTreeClassifier\n",
    "# Hyperparameter tuning\n",
    "from sklearn.model_selection import StratifiedKFold, GridSearchCV, RandomizedSearchCV, cross_val_score\n",
    "from hyperopt import tpe, STATUS_OK, Trials, hp, fmin, STATUS_OK, space_eval\n",
    "from sklearn.svm import SVC\n",
    "from sklearn.metrics import classification_report\n",
    "from sklearn.metrics import accuracy_score\n",
    "from numpy import argmax\n",
    "from sklearn.model_selection import RepeatedStratifiedKFold\n",
    "from sklearn.preprocessing import PowerTransformer"
   ]
  },
  {
   "cell_type": "code",
   "execution_count": 2,
   "id": "6b351493",
   "metadata": {},
   "outputs": [
    {
     "data": {
      "text/html": [
       "<div>\n",
       "<style scoped>\n",
       "    .dataframe tbody tr th:only-of-type {\n",
       "        vertical-align: middle;\n",
       "    }\n",
       "\n",
       "    .dataframe tbody tr th {\n",
       "        vertical-align: top;\n",
       "    }\n",
       "\n",
       "    .dataframe thead th {\n",
       "        text-align: right;\n",
       "    }\n",
       "</style>\n",
       "<table border=\"1\" class=\"dataframe\">\n",
       "  <thead>\n",
       "    <tr style=\"text-align: right;\">\n",
       "      <th></th>\n",
       "      <th>0</th>\n",
       "      <th>1</th>\n",
       "      <th>2</th>\n",
       "      <th>3</th>\n",
       "      <th>4</th>\n",
       "      <th>5</th>\n",
       "      <th>6</th>\n",
       "      <th>7</th>\n",
       "      <th>8</th>\n",
       "      <th>9</th>\n",
       "      <th>10</th>\n",
       "      <th>11</th>\n",
       "    </tr>\n",
       "  </thead>\n",
       "  <tbody>\n",
       "    <tr>\n",
       "      <th>0</th>\n",
       "      <td>842302</td>\n",
       "      <td>M</td>\n",
       "      <td>17.99</td>\n",
       "      <td>10.38</td>\n",
       "      <td>122.80</td>\n",
       "      <td>1001.0</td>\n",
       "      <td>0.11840</td>\n",
       "      <td>0.27760</td>\n",
       "      <td>0.30010</td>\n",
       "      <td>0.14710</td>\n",
       "      <td>0.2419</td>\n",
       "      <td>0.07871</td>\n",
       "    </tr>\n",
       "    <tr>\n",
       "      <th>1</th>\n",
       "      <td>842517</td>\n",
       "      <td>M</td>\n",
       "      <td>20.57</td>\n",
       "      <td>17.77</td>\n",
       "      <td>132.90</td>\n",
       "      <td>1326.0</td>\n",
       "      <td>0.08474</td>\n",
       "      <td>0.07864</td>\n",
       "      <td>0.08690</td>\n",
       "      <td>0.07017</td>\n",
       "      <td>0.1812</td>\n",
       "      <td>0.05667</td>\n",
       "    </tr>\n",
       "    <tr>\n",
       "      <th>2</th>\n",
       "      <td>84300903</td>\n",
       "      <td>M</td>\n",
       "      <td>19.69</td>\n",
       "      <td>21.25</td>\n",
       "      <td>130.00</td>\n",
       "      <td>1203.0</td>\n",
       "      <td>0.10960</td>\n",
       "      <td>0.15990</td>\n",
       "      <td>0.19740</td>\n",
       "      <td>0.12790</td>\n",
       "      <td>0.2069</td>\n",
       "      <td>0.05999</td>\n",
       "    </tr>\n",
       "    <tr>\n",
       "      <th>3</th>\n",
       "      <td>84348301</td>\n",
       "      <td>M</td>\n",
       "      <td>11.42</td>\n",
       "      <td>20.38</td>\n",
       "      <td>77.58</td>\n",
       "      <td>386.1</td>\n",
       "      <td>0.14250</td>\n",
       "      <td>0.28390</td>\n",
       "      <td>0.24140</td>\n",
       "      <td>0.10520</td>\n",
       "      <td>0.2597</td>\n",
       "      <td>0.09744</td>\n",
       "    </tr>\n",
       "    <tr>\n",
       "      <th>4</th>\n",
       "      <td>84358402</td>\n",
       "      <td>M</td>\n",
       "      <td>20.29</td>\n",
       "      <td>14.34</td>\n",
       "      <td>135.10</td>\n",
       "      <td>1297.0</td>\n",
       "      <td>0.10030</td>\n",
       "      <td>0.13280</td>\n",
       "      <td>0.19800</td>\n",
       "      <td>0.10430</td>\n",
       "      <td>0.1809</td>\n",
       "      <td>0.05883</td>\n",
       "    </tr>\n",
       "    <tr>\n",
       "      <th>...</th>\n",
       "      <td>...</td>\n",
       "      <td>...</td>\n",
       "      <td>...</td>\n",
       "      <td>...</td>\n",
       "      <td>...</td>\n",
       "      <td>...</td>\n",
       "      <td>...</td>\n",
       "      <td>...</td>\n",
       "      <td>...</td>\n",
       "      <td>...</td>\n",
       "      <td>...</td>\n",
       "      <td>...</td>\n",
       "    </tr>\n",
       "    <tr>\n",
       "      <th>564</th>\n",
       "      <td>926424</td>\n",
       "      <td>M</td>\n",
       "      <td>21.56</td>\n",
       "      <td>22.39</td>\n",
       "      <td>142.00</td>\n",
       "      <td>1479.0</td>\n",
       "      <td>0.11100</td>\n",
       "      <td>0.11590</td>\n",
       "      <td>0.24390</td>\n",
       "      <td>0.13890</td>\n",
       "      <td>0.1726</td>\n",
       "      <td>0.05623</td>\n",
       "    </tr>\n",
       "    <tr>\n",
       "      <th>565</th>\n",
       "      <td>926682</td>\n",
       "      <td>M</td>\n",
       "      <td>20.13</td>\n",
       "      <td>28.25</td>\n",
       "      <td>131.20</td>\n",
       "      <td>1261.0</td>\n",
       "      <td>0.09780</td>\n",
       "      <td>0.10340</td>\n",
       "      <td>0.14400</td>\n",
       "      <td>0.09791</td>\n",
       "      <td>0.1752</td>\n",
       "      <td>0.05533</td>\n",
       "    </tr>\n",
       "    <tr>\n",
       "      <th>566</th>\n",
       "      <td>926954</td>\n",
       "      <td>M</td>\n",
       "      <td>16.60</td>\n",
       "      <td>28.08</td>\n",
       "      <td>108.30</td>\n",
       "      <td>858.1</td>\n",
       "      <td>0.08455</td>\n",
       "      <td>0.10230</td>\n",
       "      <td>0.09251</td>\n",
       "      <td>0.05302</td>\n",
       "      <td>0.1590</td>\n",
       "      <td>0.05648</td>\n",
       "    </tr>\n",
       "    <tr>\n",
       "      <th>567</th>\n",
       "      <td>927241</td>\n",
       "      <td>M</td>\n",
       "      <td>20.60</td>\n",
       "      <td>29.33</td>\n",
       "      <td>140.10</td>\n",
       "      <td>1265.0</td>\n",
       "      <td>0.11780</td>\n",
       "      <td>0.27700</td>\n",
       "      <td>0.35140</td>\n",
       "      <td>0.15200</td>\n",
       "      <td>0.2397</td>\n",
       "      <td>0.07016</td>\n",
       "    </tr>\n",
       "    <tr>\n",
       "      <th>568</th>\n",
       "      <td>92751</td>\n",
       "      <td>B</td>\n",
       "      <td>7.76</td>\n",
       "      <td>24.54</td>\n",
       "      <td>47.92</td>\n",
       "      <td>181.0</td>\n",
       "      <td>0.05263</td>\n",
       "      <td>0.04362</td>\n",
       "      <td>0.00000</td>\n",
       "      <td>0.00000</td>\n",
       "      <td>0.1587</td>\n",
       "      <td>0.05884</td>\n",
       "    </tr>\n",
       "  </tbody>\n",
       "</table>\n",
       "<p>569 rows × 12 columns</p>\n",
       "</div>"
      ],
      "text/plain": [
       "           0  1      2      3       4       5        6        7        8   \\\n",
       "0      842302  M  17.99  10.38  122.80  1001.0  0.11840  0.27760  0.30010   \n",
       "1      842517  M  20.57  17.77  132.90  1326.0  0.08474  0.07864  0.08690   \n",
       "2    84300903  M  19.69  21.25  130.00  1203.0  0.10960  0.15990  0.19740   \n",
       "3    84348301  M  11.42  20.38   77.58   386.1  0.14250  0.28390  0.24140   \n",
       "4    84358402  M  20.29  14.34  135.10  1297.0  0.10030  0.13280  0.19800   \n",
       "..        ... ..    ...    ...     ...     ...      ...      ...      ...   \n",
       "564    926424  M  21.56  22.39  142.00  1479.0  0.11100  0.11590  0.24390   \n",
       "565    926682  M  20.13  28.25  131.20  1261.0  0.09780  0.10340  0.14400   \n",
       "566    926954  M  16.60  28.08  108.30   858.1  0.08455  0.10230  0.09251   \n",
       "567    927241  M  20.60  29.33  140.10  1265.0  0.11780  0.27700  0.35140   \n",
       "568     92751  B   7.76  24.54   47.92   181.0  0.05263  0.04362  0.00000   \n",
       "\n",
       "          9       10       11  \n",
       "0    0.14710  0.2419  0.07871  \n",
       "1    0.07017  0.1812  0.05667  \n",
       "2    0.12790  0.2069  0.05999  \n",
       "3    0.10520  0.2597  0.09744  \n",
       "4    0.10430  0.1809  0.05883  \n",
       "..       ...     ...      ...  \n",
       "564  0.13890  0.1726  0.05623  \n",
       "565  0.09791  0.1752  0.05533  \n",
       "566  0.05302  0.1590  0.05648  \n",
       "567  0.15200  0.2397  0.07016  \n",
       "568  0.00000  0.1587  0.05884  \n",
       "\n",
       "[569 rows x 12 columns]"
      ]
     },
     "execution_count": 2,
     "metadata": {},
     "output_type": "execute_result"
    }
   ],
   "source": [
    "#downloading breast cancer dataset as the df dataframe\n",
    "df=pd.read_csv(\"data/wdbc.data\", header=None, usecols=[0, 1, 2, 3, 4, 5, 6, 7, 8, 9, 10, 11])\n",
    "df"
   ]
  },
  {
   "cell_type": "code",
   "execution_count": 3,
   "id": "397fba24",
   "metadata": {},
   "outputs": [
    {
     "data": {
      "text/html": [
       "<div>\n",
       "<style scoped>\n",
       "    .dataframe tbody tr th:only-of-type {\n",
       "        vertical-align: middle;\n",
       "    }\n",
       "\n",
       "    .dataframe tbody tr th {\n",
       "        vertical-align: top;\n",
       "    }\n",
       "\n",
       "    .dataframe thead th {\n",
       "        text-align: right;\n",
       "    }\n",
       "</style>\n",
       "<table border=\"1\" class=\"dataframe\">\n",
       "  <thead>\n",
       "    <tr style=\"text-align: right;\">\n",
       "      <th></th>\n",
       "      <th>id</th>\n",
       "      <th>diagnosis</th>\n",
       "      <th>radius</th>\n",
       "      <th>texture</th>\n",
       "      <th>perimeter</th>\n",
       "      <th>area</th>\n",
       "      <th>smoothness</th>\n",
       "      <th>compactness</th>\n",
       "      <th>contactivity</th>\n",
       "      <th>concave_points</th>\n",
       "      <th>symmetry</th>\n",
       "      <th>fractal_dimension</th>\n",
       "    </tr>\n",
       "  </thead>\n",
       "  <tbody>\n",
       "    <tr>\n",
       "      <th>0</th>\n",
       "      <td>842302</td>\n",
       "      <td>M</td>\n",
       "      <td>17.99</td>\n",
       "      <td>10.38</td>\n",
       "      <td>122.80</td>\n",
       "      <td>1001.0</td>\n",
       "      <td>0.11840</td>\n",
       "      <td>0.27760</td>\n",
       "      <td>0.30010</td>\n",
       "      <td>0.14710</td>\n",
       "      <td>0.2419</td>\n",
       "      <td>0.07871</td>\n",
       "    </tr>\n",
       "    <tr>\n",
       "      <th>1</th>\n",
       "      <td>842517</td>\n",
       "      <td>M</td>\n",
       "      <td>20.57</td>\n",
       "      <td>17.77</td>\n",
       "      <td>132.90</td>\n",
       "      <td>1326.0</td>\n",
       "      <td>0.08474</td>\n",
       "      <td>0.07864</td>\n",
       "      <td>0.08690</td>\n",
       "      <td>0.07017</td>\n",
       "      <td>0.1812</td>\n",
       "      <td>0.05667</td>\n",
       "    </tr>\n",
       "    <tr>\n",
       "      <th>2</th>\n",
       "      <td>84300903</td>\n",
       "      <td>M</td>\n",
       "      <td>19.69</td>\n",
       "      <td>21.25</td>\n",
       "      <td>130.00</td>\n",
       "      <td>1203.0</td>\n",
       "      <td>0.10960</td>\n",
       "      <td>0.15990</td>\n",
       "      <td>0.19740</td>\n",
       "      <td>0.12790</td>\n",
       "      <td>0.2069</td>\n",
       "      <td>0.05999</td>\n",
       "    </tr>\n",
       "    <tr>\n",
       "      <th>3</th>\n",
       "      <td>84348301</td>\n",
       "      <td>M</td>\n",
       "      <td>11.42</td>\n",
       "      <td>20.38</td>\n",
       "      <td>77.58</td>\n",
       "      <td>386.1</td>\n",
       "      <td>0.14250</td>\n",
       "      <td>0.28390</td>\n",
       "      <td>0.24140</td>\n",
       "      <td>0.10520</td>\n",
       "      <td>0.2597</td>\n",
       "      <td>0.09744</td>\n",
       "    </tr>\n",
       "    <tr>\n",
       "      <th>4</th>\n",
       "      <td>84358402</td>\n",
       "      <td>M</td>\n",
       "      <td>20.29</td>\n",
       "      <td>14.34</td>\n",
       "      <td>135.10</td>\n",
       "      <td>1297.0</td>\n",
       "      <td>0.10030</td>\n",
       "      <td>0.13280</td>\n",
       "      <td>0.19800</td>\n",
       "      <td>0.10430</td>\n",
       "      <td>0.1809</td>\n",
       "      <td>0.05883</td>\n",
       "    </tr>\n",
       "    <tr>\n",
       "      <th>...</th>\n",
       "      <td>...</td>\n",
       "      <td>...</td>\n",
       "      <td>...</td>\n",
       "      <td>...</td>\n",
       "      <td>...</td>\n",
       "      <td>...</td>\n",
       "      <td>...</td>\n",
       "      <td>...</td>\n",
       "      <td>...</td>\n",
       "      <td>...</td>\n",
       "      <td>...</td>\n",
       "      <td>...</td>\n",
       "    </tr>\n",
       "    <tr>\n",
       "      <th>564</th>\n",
       "      <td>926424</td>\n",
       "      <td>M</td>\n",
       "      <td>21.56</td>\n",
       "      <td>22.39</td>\n",
       "      <td>142.00</td>\n",
       "      <td>1479.0</td>\n",
       "      <td>0.11100</td>\n",
       "      <td>0.11590</td>\n",
       "      <td>0.24390</td>\n",
       "      <td>0.13890</td>\n",
       "      <td>0.1726</td>\n",
       "      <td>0.05623</td>\n",
       "    </tr>\n",
       "    <tr>\n",
       "      <th>565</th>\n",
       "      <td>926682</td>\n",
       "      <td>M</td>\n",
       "      <td>20.13</td>\n",
       "      <td>28.25</td>\n",
       "      <td>131.20</td>\n",
       "      <td>1261.0</td>\n",
       "      <td>0.09780</td>\n",
       "      <td>0.10340</td>\n",
       "      <td>0.14400</td>\n",
       "      <td>0.09791</td>\n",
       "      <td>0.1752</td>\n",
       "      <td>0.05533</td>\n",
       "    </tr>\n",
       "    <tr>\n",
       "      <th>566</th>\n",
       "      <td>926954</td>\n",
       "      <td>M</td>\n",
       "      <td>16.60</td>\n",
       "      <td>28.08</td>\n",
       "      <td>108.30</td>\n",
       "      <td>858.1</td>\n",
       "      <td>0.08455</td>\n",
       "      <td>0.10230</td>\n",
       "      <td>0.09251</td>\n",
       "      <td>0.05302</td>\n",
       "      <td>0.1590</td>\n",
       "      <td>0.05648</td>\n",
       "    </tr>\n",
       "    <tr>\n",
       "      <th>567</th>\n",
       "      <td>927241</td>\n",
       "      <td>M</td>\n",
       "      <td>20.60</td>\n",
       "      <td>29.33</td>\n",
       "      <td>140.10</td>\n",
       "      <td>1265.0</td>\n",
       "      <td>0.11780</td>\n",
       "      <td>0.27700</td>\n",
       "      <td>0.35140</td>\n",
       "      <td>0.15200</td>\n",
       "      <td>0.2397</td>\n",
       "      <td>0.07016</td>\n",
       "    </tr>\n",
       "    <tr>\n",
       "      <th>568</th>\n",
       "      <td>92751</td>\n",
       "      <td>B</td>\n",
       "      <td>7.76</td>\n",
       "      <td>24.54</td>\n",
       "      <td>47.92</td>\n",
       "      <td>181.0</td>\n",
       "      <td>0.05263</td>\n",
       "      <td>0.04362</td>\n",
       "      <td>0.00000</td>\n",
       "      <td>0.00000</td>\n",
       "      <td>0.1587</td>\n",
       "      <td>0.05884</td>\n",
       "    </tr>\n",
       "  </tbody>\n",
       "</table>\n",
       "<p>569 rows × 12 columns</p>\n",
       "</div>"
      ],
      "text/plain": [
       "           id diagnosis  radius  texture  perimeter    area  smoothness  \\\n",
       "0      842302         M   17.99    10.38     122.80  1001.0     0.11840   \n",
       "1      842517         M   20.57    17.77     132.90  1326.0     0.08474   \n",
       "2    84300903         M   19.69    21.25     130.00  1203.0     0.10960   \n",
       "3    84348301         M   11.42    20.38      77.58   386.1     0.14250   \n",
       "4    84358402         M   20.29    14.34     135.10  1297.0     0.10030   \n",
       "..        ...       ...     ...      ...        ...     ...         ...   \n",
       "564    926424         M   21.56    22.39     142.00  1479.0     0.11100   \n",
       "565    926682         M   20.13    28.25     131.20  1261.0     0.09780   \n",
       "566    926954         M   16.60    28.08     108.30   858.1     0.08455   \n",
       "567    927241         M   20.60    29.33     140.10  1265.0     0.11780   \n",
       "568     92751         B    7.76    24.54      47.92   181.0     0.05263   \n",
       "\n",
       "     compactness  contactivity  concave_points  symmetry  fractal_dimension  \n",
       "0        0.27760       0.30010         0.14710    0.2419            0.07871  \n",
       "1        0.07864       0.08690         0.07017    0.1812            0.05667  \n",
       "2        0.15990       0.19740         0.12790    0.2069            0.05999  \n",
       "3        0.28390       0.24140         0.10520    0.2597            0.09744  \n",
       "4        0.13280       0.19800         0.10430    0.1809            0.05883  \n",
       "..           ...           ...             ...       ...                ...  \n",
       "564      0.11590       0.24390         0.13890    0.1726            0.05623  \n",
       "565      0.10340       0.14400         0.09791    0.1752            0.05533  \n",
       "566      0.10230       0.09251         0.05302    0.1590            0.05648  \n",
       "567      0.27700       0.35140         0.15200    0.2397            0.07016  \n",
       "568      0.04362       0.00000         0.00000    0.1587            0.05884  \n",
       "\n",
       "[569 rows x 12 columns]"
      ]
     },
     "execution_count": 3,
     "metadata": {},
     "output_type": "execute_result"
    }
   ],
   "source": [
    "\"\"\"making column names\"\"\"\n",
    "header=[\"id\", \"diagnosis\", \"radius\", \"texture\", \"perimeter\", \"area\", \"smoothness\", \"compactness\", \"contactivity\", \"concave_points\", \"symmetry\", \"fractal_dimension\"]\n",
    "df.columns=header\n",
    "df"
   ]
  },
  {
   "cell_type": "code",
   "execution_count": 4,
   "id": "69374a7b",
   "metadata": {},
   "outputs": [
    {
     "data": {
      "text/plain": [
       "id                   0\n",
       "diagnosis            0\n",
       "radius               0\n",
       "texture              0\n",
       "perimeter            0\n",
       "area                 0\n",
       "smoothness           0\n",
       "compactness          0\n",
       "contactivity         0\n",
       "concave_points       0\n",
       "symmetry             0\n",
       "fractal_dimension    0\n",
       "dtype: int64"
      ]
     },
     "execution_count": 4,
     "metadata": {},
     "output_type": "execute_result"
    }
   ],
   "source": [
    "#checking for NaN values\n",
    "df.isnull().sum()"
   ]
  },
  {
   "cell_type": "code",
   "execution_count": 5,
   "id": "343f9357",
   "metadata": {},
   "outputs": [
    {
     "data": {
      "text/html": [
       "<div>\n",
       "<style scoped>\n",
       "    .dataframe tbody tr th:only-of-type {\n",
       "        vertical-align: middle;\n",
       "    }\n",
       "\n",
       "    .dataframe tbody tr th {\n",
       "        vertical-align: top;\n",
       "    }\n",
       "\n",
       "    .dataframe thead th {\n",
       "        text-align: right;\n",
       "    }\n",
       "</style>\n",
       "<table border=\"1\" class=\"dataframe\">\n",
       "  <thead>\n",
       "    <tr style=\"text-align: right;\">\n",
       "      <th></th>\n",
       "      <th>radius</th>\n",
       "      <th>texture</th>\n",
       "      <th>perimeter</th>\n",
       "      <th>area</th>\n",
       "      <th>smoothness</th>\n",
       "      <th>compactness</th>\n",
       "      <th>contactivity</th>\n",
       "      <th>concave_points</th>\n",
       "      <th>symmetry</th>\n",
       "      <th>fractal_dimension</th>\n",
       "    </tr>\n",
       "  </thead>\n",
       "  <tbody>\n",
       "    <tr>\n",
       "      <th>radius</th>\n",
       "      <td>1.000000</td>\n",
       "      <td>0.323782</td>\n",
       "      <td>0.997855</td>\n",
       "      <td>0.987357</td>\n",
       "      <td>0.170581</td>\n",
       "      <td>0.506124</td>\n",
       "      <td>0.676764</td>\n",
       "      <td>0.822529</td>\n",
       "      <td>0.147741</td>\n",
       "      <td>-0.311631</td>\n",
       "    </tr>\n",
       "    <tr>\n",
       "      <th>texture</th>\n",
       "      <td>0.323782</td>\n",
       "      <td>1.000000</td>\n",
       "      <td>0.329533</td>\n",
       "      <td>0.321086</td>\n",
       "      <td>-0.023389</td>\n",
       "      <td>0.236702</td>\n",
       "      <td>0.302418</td>\n",
       "      <td>0.293464</td>\n",
       "      <td>0.071401</td>\n",
       "      <td>-0.076437</td>\n",
       "    </tr>\n",
       "    <tr>\n",
       "      <th>perimeter</th>\n",
       "      <td>0.997855</td>\n",
       "      <td>0.329533</td>\n",
       "      <td>1.000000</td>\n",
       "      <td>0.986507</td>\n",
       "      <td>0.207278</td>\n",
       "      <td>0.556936</td>\n",
       "      <td>0.716136</td>\n",
       "      <td>0.850977</td>\n",
       "      <td>0.183027</td>\n",
       "      <td>-0.261477</td>\n",
       "    </tr>\n",
       "    <tr>\n",
       "      <th>area</th>\n",
       "      <td>0.987357</td>\n",
       "      <td>0.321086</td>\n",
       "      <td>0.986507</td>\n",
       "      <td>1.000000</td>\n",
       "      <td>0.177028</td>\n",
       "      <td>0.498502</td>\n",
       "      <td>0.685983</td>\n",
       "      <td>0.823269</td>\n",
       "      <td>0.151293</td>\n",
       "      <td>-0.283110</td>\n",
       "    </tr>\n",
       "    <tr>\n",
       "      <th>smoothness</th>\n",
       "      <td>0.170581</td>\n",
       "      <td>-0.023389</td>\n",
       "      <td>0.207278</td>\n",
       "      <td>0.177028</td>\n",
       "      <td>1.000000</td>\n",
       "      <td>0.659123</td>\n",
       "      <td>0.521984</td>\n",
       "      <td>0.553695</td>\n",
       "      <td>0.557775</td>\n",
       "      <td>0.584792</td>\n",
       "    </tr>\n",
       "    <tr>\n",
       "      <th>compactness</th>\n",
       "      <td>0.506124</td>\n",
       "      <td>0.236702</td>\n",
       "      <td>0.556936</td>\n",
       "      <td>0.498502</td>\n",
       "      <td>0.659123</td>\n",
       "      <td>1.000000</td>\n",
       "      <td>0.883121</td>\n",
       "      <td>0.831135</td>\n",
       "      <td>0.602641</td>\n",
       "      <td>0.565369</td>\n",
       "    </tr>\n",
       "    <tr>\n",
       "      <th>contactivity</th>\n",
       "      <td>0.676764</td>\n",
       "      <td>0.302418</td>\n",
       "      <td>0.716136</td>\n",
       "      <td>0.685983</td>\n",
       "      <td>0.521984</td>\n",
       "      <td>0.883121</td>\n",
       "      <td>1.000000</td>\n",
       "      <td>0.921391</td>\n",
       "      <td>0.500667</td>\n",
       "      <td>0.336783</td>\n",
       "    </tr>\n",
       "    <tr>\n",
       "      <th>concave_points</th>\n",
       "      <td>0.822529</td>\n",
       "      <td>0.293464</td>\n",
       "      <td>0.850977</td>\n",
       "      <td>0.823269</td>\n",
       "      <td>0.553695</td>\n",
       "      <td>0.831135</td>\n",
       "      <td>0.921391</td>\n",
       "      <td>1.000000</td>\n",
       "      <td>0.462497</td>\n",
       "      <td>0.166917</td>\n",
       "    </tr>\n",
       "    <tr>\n",
       "      <th>symmetry</th>\n",
       "      <td>0.147741</td>\n",
       "      <td>0.071401</td>\n",
       "      <td>0.183027</td>\n",
       "      <td>0.151293</td>\n",
       "      <td>0.557775</td>\n",
       "      <td>0.602641</td>\n",
       "      <td>0.500667</td>\n",
       "      <td>0.462497</td>\n",
       "      <td>1.000000</td>\n",
       "      <td>0.479921</td>\n",
       "    </tr>\n",
       "    <tr>\n",
       "      <th>fractal_dimension</th>\n",
       "      <td>-0.311631</td>\n",
       "      <td>-0.076437</td>\n",
       "      <td>-0.261477</td>\n",
       "      <td>-0.283110</td>\n",
       "      <td>0.584792</td>\n",
       "      <td>0.565369</td>\n",
       "      <td>0.336783</td>\n",
       "      <td>0.166917</td>\n",
       "      <td>0.479921</td>\n",
       "      <td>1.000000</td>\n",
       "    </tr>\n",
       "  </tbody>\n",
       "</table>\n",
       "</div>"
      ],
      "text/plain": [
       "                     radius   texture  perimeter      area  smoothness  \\\n",
       "radius             1.000000  0.323782   0.997855  0.987357    0.170581   \n",
       "texture            0.323782  1.000000   0.329533  0.321086   -0.023389   \n",
       "perimeter          0.997855  0.329533   1.000000  0.986507    0.207278   \n",
       "area               0.987357  0.321086   0.986507  1.000000    0.177028   \n",
       "smoothness         0.170581 -0.023389   0.207278  0.177028    1.000000   \n",
       "compactness        0.506124  0.236702   0.556936  0.498502    0.659123   \n",
       "contactivity       0.676764  0.302418   0.716136  0.685983    0.521984   \n",
       "concave_points     0.822529  0.293464   0.850977  0.823269    0.553695   \n",
       "symmetry           0.147741  0.071401   0.183027  0.151293    0.557775   \n",
       "fractal_dimension -0.311631 -0.076437  -0.261477 -0.283110    0.584792   \n",
       "\n",
       "                   compactness  contactivity  concave_points  symmetry  \\\n",
       "radius                0.506124      0.676764        0.822529  0.147741   \n",
       "texture               0.236702      0.302418        0.293464  0.071401   \n",
       "perimeter             0.556936      0.716136        0.850977  0.183027   \n",
       "area                  0.498502      0.685983        0.823269  0.151293   \n",
       "smoothness            0.659123      0.521984        0.553695  0.557775   \n",
       "compactness           1.000000      0.883121        0.831135  0.602641   \n",
       "contactivity          0.883121      1.000000        0.921391  0.500667   \n",
       "concave_points        0.831135      0.921391        1.000000  0.462497   \n",
       "symmetry              0.602641      0.500667        0.462497  1.000000   \n",
       "fractal_dimension     0.565369      0.336783        0.166917  0.479921   \n",
       "\n",
       "                   fractal_dimension  \n",
       "radius                     -0.311631  \n",
       "texture                    -0.076437  \n",
       "perimeter                  -0.261477  \n",
       "area                       -0.283110  \n",
       "smoothness                  0.584792  \n",
       "compactness                 0.565369  \n",
       "contactivity                0.336783  \n",
       "concave_points              0.166917  \n",
       "symmetry                    0.479921  \n",
       "fractal_dimension           1.000000  "
      ]
     },
     "execution_count": 5,
     "metadata": {},
     "output_type": "execute_result"
    }
   ],
   "source": [
    "#making the dataframe containing correlation values\n",
    "cor=df.iloc[:, 2:].corr(method=\"pearson\")\n",
    "cor"
   ]
  },
  {
   "cell_type": "code",
   "execution_count": 6,
   "id": "f17ba609",
   "metadata": {},
   "outputs": [
    {
     "data": {
      "image/png": "[encoded data removed]",
      "text/plain": [
       "<Figure size 720x720 with 2 Axes>"
      ]
     },
     "metadata": {
      "needs_background": "light"
     },
     "output_type": "display_data"
    }
   ],
   "source": [
    "\"\"\"visualizing correlation values between features\"\"\"\n",
    "plt.rcParams[\"figure.figsize\"]=(10, 10)\n",
    "sn.heatmap(data=cor, annot=True, cmap=\"YlGnBu\")\n",
    "plt.title(\"Heat map of variable correlation values\")\n",
    "plt.show()"
   ]
  },
  {
   "cell_type": "code",
   "execution_count": 7,
   "id": "b8ecc7af",
   "metadata": {},
   "outputs": [
    {
     "data": {
      "text/plain": [
       "B    357\n",
       "M    212\n",
       "Name: diagnosis, dtype: int64"
      ]
     },
     "execution_count": 7,
     "metadata": {},
     "output_type": "execute_result"
    }
   ],
   "source": [
    "df[\"diagnosis\"].value_counts()"
   ]
  },
  {
   "cell_type": "code",
   "execution_count": 8,
   "id": "4cca5ca0",
   "metadata": {},
   "outputs": [
    {
     "name": "stderr",
     "output_type": "stream",
     "text": [
      "/usr/local/anaconda3/lib/python3.9/site-packages/seaborn/_decorators.py:36: FutureWarning: Pass the following variable as a keyword arg: x. From version 0.12, the only valid positional argument will be `data`, and passing other arguments without an explicit keyword will result in an error or misinterpretation.\n",
      "  warnings.warn(\n"
     ]
    },
    {
     "data": {
      "image/png": "[encoded data removed]",
      "text/plain": [
       "<Figure size 720x720 with 1 Axes>"
      ]
     },
     "metadata": {
      "needs_background": "light"
     },
     "output_type": "display_data"
    }
   ],
   "source": [
    "#count plot for the begign and malignant tumors\n",
    "plot=sn.countplot(df[\"diagnosis\"])\n",
    "\n",
    "ax=plt.gca()\n",
    "ax.set_xlabel(\"Type of tumor\", fontsize=12)\n",
    "ax.set_ylabel(\"Count\", fontsize=12)\n",
    "ax.set_xticklabels([\"malignant\", \"benign\"], fontsize=12)\n",
    "ax.text(0, 215, \"212\", ha=\"center\", fontsize=12)\n",
    "ax.text(1, 360, \"357\", ha=\"center\", fontsize=12)\n",
    "plt.title(\"Countplot of malignant and benign tumors\")\n",
    "plt.show()"
   ]
  },
  {
   "cell_type": "code",
   "execution_count": 9,
   "id": "732f099c",
   "metadata": {},
   "outputs": [
    {
     "data": {
      "image/png": "[encoded data removed]",
      "text/plain": [
       "<Figure size 720x1080 with 12 Axes>"
      ]
     },
     "metadata": {
      "needs_background": "light"
     },
     "output_type": "display_data"
    }
   ],
   "source": [
    "#histogram of the features of the dataset\n",
    "df.iloc[:, 2:].hist(bins=30, facecolor=\"red\", layout=(6, 2), figsize=(10, 15))\n",
    "ax=plt.gca()\n",
    "ax.set_title(\"histogram of all variables of the breast cancer dataset\")\n",
    "plt.show()"
   ]
  },
  {
   "cell_type": "code",
   "execution_count": 10,
   "id": "a2dc8427",
   "metadata": {},
   "outputs": [
    {
     "data": {
      "text/plain": [
       "array([[1.799e+01, 1.038e+01, 1.228e+02, ..., 1.471e-01, 2.419e-01,\n",
       "        7.871e-02],\n",
       "       [2.057e+01, 1.777e+01, 1.329e+02, ..., 7.017e-02, 1.812e-01,\n",
       "        5.667e-02],\n",
       "       [1.969e+01, 2.125e+01, 1.300e+02, ..., 1.279e-01, 2.069e-01,\n",
       "        5.999e-02],\n",
       "       ...,\n",
       "       [1.660e+01, 2.808e+01, 1.083e+02, ..., 5.302e-02, 1.590e-01,\n",
       "        5.648e-02],\n",
       "       [2.060e+01, 2.933e+01, 1.401e+02, ..., 1.520e-01, 2.397e-01,\n",
       "        7.016e-02],\n",
       "       [7.760e+00, 2.454e+01, 4.792e+01, ..., 0.000e+00, 1.587e-01,\n",
       "        5.884e-02]])"
      ]
     },
     "execution_count": 10,
     "metadata": {},
     "output_type": "execute_result"
    }
   ],
   "source": [
    "\"\"\"making feature array\"\"\"\n",
    "X=df.iloc[:, 2:].values\n",
    "X"
   ]
  },
  {
   "cell_type": "code",
   "execution_count": 11,
   "id": "1d338657",
   "metadata": {},
   "outputs": [
    {
     "data": {
      "text/plain": [
       "array([1, 1, 1, 1, 1, 1, 1, 1, 1, 1, 1, 1, 1, 1, 1, 1, 1, 1, 1, 0, 0, 0,\n",
       "       1, 1, 1, 1, 1, 1, 1, 1, 1, 1, 1, 1, 1, 1, 1, 0, 1, 1, 1, 1, 1, 1,\n",
       "       1, 1, 0, 1, 0, 0, 0, 0, 0, 1, 1, 0, 1, 1, 0, 0, 0, 0, 1, 0, 1, 1,\n",
       "       0, 0, 0, 0, 1, 0, 1, 1, 0, 1, 0, 1, 1, 0, 0, 0, 1, 1, 0, 1, 1, 1,\n",
       "       0, 0, 0, 1, 0, 0, 1, 1, 0, 0, 0, 1, 1, 0, 0, 0, 0, 1, 0, 0, 1, 0,\n",
       "       0, 0, 0, 0, 0, 0, 0, 1, 1, 1, 0, 1, 1, 0, 0, 0, 1, 1, 0, 1, 0, 1,\n",
       "       1, 0, 1, 1, 0, 0, 1, 0, 0, 1, 0, 0, 0, 0, 1, 0, 0, 0, 0, 0, 0, 0,\n",
       "       0, 0, 1, 0, 0, 0, 0, 1, 1, 0, 1, 0, 0, 1, 1, 0, 0, 1, 1, 0, 0, 0,\n",
       "       0, 1, 0, 0, 1, 1, 1, 0, 1, 0, 1, 0, 0, 0, 1, 0, 0, 1, 1, 0, 1, 1,\n",
       "       1, 1, 0, 1, 1, 1, 0, 1, 0, 1, 0, 0, 1, 0, 1, 1, 1, 1, 0, 0, 1, 1,\n",
       "       0, 0, 0, 1, 0, 0, 0, 0, 0, 1, 1, 0, 0, 1, 0, 0, 1, 1, 0, 1, 0, 0,\n",
       "       0, 0, 1, 0, 0, 0, 0, 0, 1, 0, 1, 1, 1, 1, 1, 1, 1, 1, 1, 1, 1, 1,\n",
       "       1, 1, 0, 0, 0, 0, 0, 0, 1, 0, 1, 0, 0, 1, 0, 0, 1, 0, 1, 1, 0, 0,\n",
       "       0, 0, 0, 0, 0, 0, 0, 0, 0, 0, 0, 1, 0, 0, 1, 0, 1, 0, 0, 0, 0, 0,\n",
       "       0, 0, 0, 0, 0, 0, 0, 0, 0, 1, 0, 0, 0, 1, 0, 1, 0, 0, 0, 0, 1, 1,\n",
       "       1, 0, 0, 0, 0, 1, 0, 1, 0, 1, 0, 0, 0, 1, 0, 0, 0, 0, 0, 0, 0, 1,\n",
       "       1, 1, 0, 0, 0, 0, 0, 0, 0, 0, 0, 0, 0, 1, 1, 0, 1, 1, 1, 0, 1, 1,\n",
       "       0, 0, 0, 0, 0, 1, 0, 0, 0, 0, 0, 1, 0, 0, 0, 1, 0, 0, 1, 1, 0, 0,\n",
       "       0, 0, 0, 0, 1, 0, 0, 0, 0, 0, 0, 0, 1, 0, 0, 0, 0, 0, 1, 0, 0, 1,\n",
       "       0, 0, 0, 0, 0, 0, 0, 0, 0, 0, 0, 0, 1, 0, 1, 1, 0, 1, 0, 0, 0, 0,\n",
       "       0, 1, 0, 0, 1, 0, 1, 0, 0, 1, 0, 1, 0, 0, 0, 0, 0, 0, 0, 0, 1, 1,\n",
       "       0, 0, 0, 0, 0, 0, 1, 0, 0, 0, 0, 0, 0, 0, 0, 0, 0, 1, 0, 0, 0, 0,\n",
       "       0, 0, 0, 1, 0, 1, 0, 0, 1, 0, 0, 0, 0, 0, 1, 1, 0, 1, 0, 1, 0, 0,\n",
       "       0, 0, 0, 1, 0, 0, 1, 0, 1, 0, 1, 1, 0, 0, 0, 1, 0, 0, 0, 0, 0, 0,\n",
       "       0, 0, 0, 0, 0, 1, 0, 1, 1, 0, 0, 0, 0, 0, 0, 0, 0, 0, 0, 0, 0, 0,\n",
       "       0, 0, 0, 0, 0, 0, 0, 0, 0, 0, 0, 0, 1, 1, 1, 1, 1, 1, 0])"
      ]
     },
     "execution_count": 11,
     "metadata": {},
     "output_type": "execute_result"
    }
   ],
   "source": [
    "#Encoding categorical data values\n",
    "#Y=pd.get_dummies(df[\"diagnosis\"]) another method to get one-hot encodong\n",
    "from sklearn.preprocessing import LabelEncoder\n",
    "labelencoder_Y = LabelEncoder()\n",
    "Y = labelencoder_Y.fit_transform(df[\"diagnosis\"])\n",
    "Y"
   ]
  },
  {
   "cell_type": "code",
   "execution_count": 12,
   "id": "205c0815",
   "metadata": {},
   "outputs": [],
   "source": [
    "# Splitting the dataset into the Training set and Test set\n",
    "from sklearn.model_selection import train_test_split\n",
    "X_train, X_test, Y_train, Y_test = train_test_split(X, Y, test_size = 0.25, random_state = 1000)"
   ]
  },
  {
   "cell_type": "markdown",
   "id": "d472cdc3-0212-4b42-a99c-a13edc07fa8a",
   "metadata": {},
   "source": [
    "#### Defining the function returning confusion matrixx\n"
   ]
  },
  {
   "cell_type": "code",
   "execution_count": 13,
   "id": "180628cb-517e-46ff-87ec-003c53e25673",
   "metadata": {},
   "outputs": [],
   "source": [
    "\"\"\"defining the confusion_matrix_visual() method to visualize the confusion matrix\"\"\"\n",
    "def confusion_matrix_visual(y_true, y_pred, class_labels, ax=None, title=None, **kwargs):\n",
    "    \"\"\"y_test: true labels for y\n",
    "       y_pred: predicted labels for y\n",
    "       class_labels: labels of differemt classes\n",
    "       ax: matplotlib axes\n",
    "       title: the plot title\n",
    "       **kwargs: additional arguments in the form of a dictionary\"\"\"\n",
    "    matrix=confusion_matrix(y_true, y_pred)\n",
    "    ax=sn.heatmap(matrix.T, square=True, annot=True, fmt=\"d\", cmap=plt.cm.Blues, ax=ax,  **kwargs)\n",
    "    ax.set_xlabel(\"Actual\")\n",
    "    ax.set_ylabel(\"Model Prediction\")\n",
    "    tick_marks=np.arange(len(class_labels))+0.5\n",
    "    ax.set_xticks(tick_marks)\n",
    "    ax.set_xticklabels(class_labels)\n",
    "    ax.set_yticks(tick_marks)\n",
    "    ax.set_yticklabels(class_labels, rotation=0)\n",
    "    ax.set_title(\"Confusion matrix\")\n",
    "    return ax"
   ]
  },
  {
   "cell_type": "markdown",
   "id": "7463b542-7f80-43ca-80e8-f8a6dce5e505",
   "metadata": {},
   "source": [
    "#### Support Vector Machine"
   ]
  },
  {
   "cell_type": "code",
   "execution_count": 14,
   "id": "6b93f64c-ee3f-4ba6-a2f9-12df0ecb4d9c",
   "metadata": {},
   "outputs": [
    {
     "data": {
      "image/png": "[encoded data removed]",
      "text/plain": [
       "<Figure size 720x720 with 2 Axes>"
      ]
     },
     "metadata": {
      "needs_background": "light"
     },
     "output_type": "display_data"
    }
   ],
   "source": [
    "#making model for Support Vector Machine\n",
    "\n",
    "from sklearn.svm import SVC\n",
    "classifier = SVC(kernel = 'rbf', gamma=0.1, C=10.0, random_state = 1000)\n",
    "model=Pipeline([\n",
    "    (\"scale\", StandardScaler()),\n",
    "    (\"svc\", SVC())\n",
    "]).fit(X_train, Y_train)\n",
    "predicted_labels=model.predict(X_test)\n",
    "\n",
    "#visualizing the confusion matrix for Support Vector Machine\n",
    "confusion_matrix_visual(Y_test, predicted_labels, [\"benign\", \"tumor\"])\n",
    "plt.title(\" Support Vector Machine (untuned) Confusion matrix\", fontsize=16)\n",
    "plt.show()"
   ]
  },
  {
   "cell_type": "code",
   "execution_count": 15,
   "id": "f8e061b7-df0f-404b-a082-9aacff70ad81",
   "metadata": {},
   "outputs": [
    {
     "name": "stdout",
     "output_type": "stream",
     "text": [
      "Classification report for SVM\n",
      "------------------------------------------------------------\n",
      "              precision    recall  f1-score   support\n",
      "\n",
      "           0       0.93      0.96      0.94        89\n",
      "           1       0.92      0.89      0.91        54\n",
      "\n",
      "    accuracy                           0.93       143\n",
      "   macro avg       0.93      0.92      0.93       143\n",
      "weighted avg       0.93      0.93      0.93       143\n",
      "\n"
     ]
    }
   ],
   "source": [
    "#making the classification report for untuned SVM\n",
    "print(\"Classification report for SVM\")\n",
    "print(\"-\"*60)\n",
    "print(classification_report(Y_test, predicted_labels))"
   ]
  },
  {
   "cell_type": "code",
   "execution_count": 16,
   "id": "615796e6-abc1-4924-9f33-10c43ee91f7e",
   "metadata": {},
   "outputs": [
    {
     "name": "stdout",
     "output_type": "stream",
     "text": [
      "accuracy for train dataset: 0.9624413145539906\n",
      "accuracy for test dataset: 0.9300699300699301\n"
     ]
    }
   ],
   "source": [
    "print(f'accuracy for train dataset: {accuracy_score(Y_train, model.predict(X_train))}')\n",
    "print(f'accuracy for test dataset: {accuracy_score(Y_test, predicted_labels)}')\n"
   ]
  },
  {
   "cell_type": "markdown",
   "id": "7725da27-ead0-48d3-9702-1f2847b7fa82",
   "metadata": {},
   "source": [
    "#### Support Vector Machine with hyperparameter tuning"
   ]
  },
  {
   "cell_type": "code",
   "execution_count": 17,
   "id": "2d5cef33-740f-4795-a3bf-511788c39e1d",
   "metadata": {},
   "outputs": [
    {
     "name": "stdout",
     "output_type": "stream",
     "text": [
      "The list of values for C are [ 0.1  1.  10. ]\n",
      "The list of values for gamma are [ 0.1  1.  10. ]\n"
     ]
    }
   ],
   "source": [
    "# List of C values\n",
    "C_range = np.logspace(-1, 1, 3)\n",
    "print(f'The list of values for C are {C_range}')\n",
    "\n",
    "# List of gamma values\n",
    "gamma_range = np.logspace(-1, 1, 3)\n",
    "print(f'The list of values for gamma are {gamma_range}')"
   ]
  },
  {
   "cell_type": "code",
   "execution_count": 18,
   "id": "11df9ee4-7eb5-4386-8f48-8405e7e34453",
   "metadata": {},
   "outputs": [],
   "source": [
    "# Define the search space\n",
    "param_grid = { \n",
    "    # Regularization parameter.\n",
    "    \"C\": C_range,\n",
    "    # Kernel type\n",
    "    \"kernel\": ['rbf', 'poly'],\n",
    "    # Gamma is the Kernel coefficient for ‘rbf’, ‘poly’ and ‘sigmoid’.\n",
    "    \"gamma\": gamma_range.tolist()+['scale', 'auto']\n",
    "    }\n",
    "\n",
    "# Set up score\n",
    "scoring = ['accuracy']\n",
    "\n",
    "# Set up the k-fold cross-validation\n",
    "kfold = StratifiedKFold(n_splits=3, shuffle=True, random_state=1000)"
   ]
  },
  {
   "cell_type": "code",
   "execution_count": 19,
   "id": "3f19ece4-1766-4b0d-a54d-5c35798a3673",
   "metadata": {},
   "outputs": [
    {
     "name": "stdout",
     "output_type": "stream",
     "text": [
      "              precision    recall  f1-score   support\n",
      "\n",
      "           0       0.94      0.98      0.96        89\n",
      "           1       0.96      0.89      0.92        54\n",
      "\n",
      "    accuracy                           0.94       143\n",
      "   macro avg       0.95      0.93      0.94       143\n",
      "weighted avg       0.94      0.94      0.94       143\n",
      "\n"
     ]
    }
   ],
   "source": [
    "model= Pipeline([(\"scale\",StandardScaler()), \n",
    "                    (\"grid\", GridSearchCV(estimator=SVC(random_state=1000), \n",
    "                           param_grid=param_grid, \n",
    "                           scoring=\"accuracy\", \n",
    "                           refit=True, \n",
    "                           n_jobs=-1, \n",
    "                           cv=5, \n",
    "                           verbose=0))]).fit(X_train, Y_train)\n",
    "\n",
    "\n",
    "predicted_labels=model.predict(X_test)\n",
    "print(classification_report(Y_test, predicted_labels))"
   ]
  },
  {
   "cell_type": "code",
   "execution_count": 20,
   "id": "3732c9b8-4b0d-4a10-b71b-46414dc1b954",
   "metadata": {},
   "outputs": [
    {
     "name": "stdout",
     "output_type": "stream",
     "text": [
      "The cross validation score is 0.9624\n",
      "The best hyperparameters are {'C': 10.0, 'gamma': 0.1, 'kernel': 'rbf'}\n",
      "The accuracy score for the training dataset is 0.9765\n",
      "The accuracy score for the test dataset is 0.9441\n"
     ]
    }
   ],
   "source": [
    "# Print the cross validation score for the training dataset\n",
    "print(f'The cross validation score is {model[\"grid\"].best_score_:.4f}')\n",
    "\n",
    "# Print the hyperparameters for the best score\n",
    "print(f'The best hyperparameters are {model[\"grid\"].best_params_}')\n",
    "\n",
    "# Print the best accuracy score for the train dataset\n",
    "print(f'The accuracy score for the training dataset is {model[\"grid\"].score(model[\"scale\"].fit_transform(X_train), Y_train):.4f}')\n",
    "\n",
    "# Print the best accuracy score for the test dataset\n",
    "print(f'The accuracy score for the test dataset is {model[\"grid\"].score(model[\"scale\"].transform(X_test), Y_test):.4f}')"
   ]
  },
  {
   "cell_type": "markdown",
   "id": "78a450e2-8fe4-477c-a989-922d31486979",
   "metadata": {},
   "source": [
    "#### Logistic Regression"
   ]
  },
  {
   "cell_type": "code",
   "execution_count": 21,
   "id": "7045fa52",
   "metadata": {},
   "outputs": [],
   "source": [
    "#generating pipeline object\n",
    "model=Pipeline([\n",
    "    (\"scale\", StandardScaler()),\n",
    "    (\"lr\", LogisticRegression(solver=\"lbfgs\", random_state=1000))\n",
    "]).fit(X_train, Y_train)"
   ]
  },
  {
   "cell_type": "code",
   "execution_count": 22,
   "id": "2fc37d4f",
   "metadata": {
    "scrolled": true
   },
   "outputs": [
    {
     "data": {
      "text/plain": [
       "{'C': 1.0,\n",
       " 'class_weight': None,\n",
       " 'dual': False,\n",
       " 'fit_intercept': True,\n",
       " 'intercept_scaling': 1,\n",
       " 'l1_ratio': None,\n",
       " 'max_iter': 100,\n",
       " 'multi_class': 'auto',\n",
       " 'n_jobs': None,\n",
       " 'penalty': 'l2',\n",
       " 'random_state': 1000,\n",
       " 'solver': 'lbfgs',\n",
       " 'tol': 0.0001,\n",
       " 'verbose': 0,\n",
       " 'warm_start': False}"
      ]
     },
     "execution_count": 22,
     "metadata": {},
     "output_type": "execute_result"
    }
   ],
   "source": [
    "#model parameters\n",
    "model[\"lr\"].get_params()"
   ]
  },
  {
   "cell_type": "code",
   "execution_count": 23,
   "id": "d374775c",
   "metadata": {},
   "outputs": [
    {
     "data": {
      "text/plain": [
       "array([[ 1.10535717,  1.24889226,  1.0307919 ,  1.32999987,  0.96419761,\n",
       "        -0.24312467,  1.00616265,  1.37147184,  0.42998425, -0.36006811]])"
      ]
     },
     "execution_count": 23,
     "metadata": {},
     "output_type": "execute_result"
    }
   ],
   "source": [
    "#model coefficients\n",
    "model[\"lr\"].coef_"
   ]
  },
  {
   "cell_type": "code",
   "execution_count": 24,
   "id": "7cdb581a",
   "metadata": {},
   "outputs": [],
   "source": [
    "#predicted values for the test set\n",
    "predicted_labels=model.predict(X_test)"
   ]
  },
  {
   "cell_type": "code",
   "execution_count": 25,
   "id": "75a3fa19",
   "metadata": {},
   "outputs": [],
   "source": [
    "\"\"\"defining the confusion_matrix_visual() method to visualize the confusion matrix\"\"\"\n",
    "def confusion_matrix_visual(y_true, y_pred, class_labels, ax=None, title=None, **kwargs):\n",
    "    \"\"\"y_test: true labels for y\n",
    "       y_pred: predicted labels for y\n",
    "       class_labels: labels of differemt classes\n",
    "       ax: matplotlib axes\n",
    "       title: the plot title\n",
    "       **kwargs: additional arguments in the form of a dictionary\"\"\"\n",
    "    matrix=confusion_matrix(y_true, y_pred)\n",
    "    ax=sn.heatmap(matrix.T, square=True, annot=True, fmt=\"d\", cmap=plt.cm.Blues, ax=ax,  **kwargs)\n",
    "    ax.set_xlabel(\"Actual\")\n",
    "    ax.set_ylabel(\"Model Prediction\")\n",
    "    tick_marks=np.arange(len(class_labels))+0.5\n",
    "    ax.set_xticks(tick_marks)\n",
    "    ax.set_xticklabels(class_labels)\n",
    "    ax.set_yticks(tick_marks)\n",
    "    ax.set_yticklabels(class_labels, rotation=0)\n",
    "    ax.set_title(\"Confusion matrix\")\n",
    "    return ax"
   ]
  },
  {
   "cell_type": "code",
   "execution_count": 26,
   "id": "f37fade7",
   "metadata": {},
   "outputs": [
    {
     "data": {
      "image/png": "[encoded data removed]",
      "text/plain": [
       "<Figure size 720x720 with 2 Axes>"
      ]
     },
     "metadata": {
      "needs_background": "light"
     },
     "output_type": "display_data"
    }
   ],
   "source": [
    "#visualizing the confusion matrix for Logistic Regression\n",
    "confusion_matrix_visual(Y_test, predicted_labels, [\"benign\", \"tumor\"])\n",
    "plt.title(\" Logistic Regression Confusion matrix\", fontsize=16)\n",
    "plt.show()"
   ]
  },
  {
   "cell_type": "code",
   "execution_count": 27,
   "id": "3de17fbe",
   "metadata": {},
   "outputs": [
    {
     "name": "stdout",
     "output_type": "stream",
     "text": [
      "Classification report for Logistic Regression\n",
      "------------------------------------------------------------\n",
      "              precision    recall  f1-score   support\n",
      "\n",
      "           0       0.93      0.94      0.94        89\n",
      "           1       0.91      0.89      0.90        54\n",
      "\n",
      "    accuracy                           0.92       143\n",
      "   macro avg       0.92      0.92      0.92       143\n",
      "weighted avg       0.92      0.92      0.92       143\n",
      "\n"
     ]
    }
   ],
   "source": [
    "#making the classification report for Logistic Regression\n",
    "print(\"Classification report for Logistic Regression\")\n",
    "print(\"-\"*60)\n",
    "print(classification_report(Y_test, predicted_labels))"
   ]
  },
  {
   "cell_type": "markdown",
   "id": "5c24b6f5-7bf7-455d-8993-07509ce18df0",
   "metadata": {},
   "source": [
    "#### Logistic regression with hyperparameter tuning"
   ]
  },
  {
   "cell_type": "code",
   "execution_count": 28,
   "id": "126f8b05-2457-4ef4-a091-0500bdf4522f",
   "metadata": {},
   "outputs": [
    {
     "data": {
      "text/plain": [
       "array([0.99953046, 0.99950015, 0.9999866 , 0.99993624, 0.27412974,\n",
       "       0.00256776, 0.15009336, 0.9897828 , 0.9564419 , 0.52025311])"
      ]
     },
     "execution_count": 28,
     "metadata": {},
     "output_type": "execute_result"
    }
   ],
   "source": [
    "y_pred=model.predict_proba(X_test)\n",
    "#making 1D array\n",
    "y_pred1 = y_pred[:, 1]\n",
    "y_pred1[:10]"
   ]
  },
  {
   "cell_type": "code",
   "execution_count": 29,
   "id": "df04f4b5-5cda-4376-8e0a-b20b143c99f5",
   "metadata": {},
   "outputs": [],
   "source": [
    "#frp: False positive rate.\n",
    "#trp:True positive rate.\n",
    "fpr, tpr, thresholds = metrics.roc_curve(Y_test, y_pred1)\n",
    "roc_auc = metrics.auc(fpr, tpr)"
   ]
  },
  {
   "cell_type": "code",
   "execution_count": 30,
   "id": "a8973096-0820-496e-b950-00967bc9873f",
   "metadata": {},
   "outputs": [
    {
     "data": {
      "image/png": "[encoded data removed]",
      "text/plain": [
       "<Figure size 720x720 with 1 Axes>"
      ]
     },
     "metadata": {
      "needs_background": "light"
     },
     "output_type": "display_data"
    }
   ],
   "source": [
    "#frp: False positive rate.\n",
    "#trp:True positive rate.\n",
    "fpr, tpr, thresholds = metrics.roc_curve(Y_test, y_pred1)\n",
    "roc_auc = metrics.auc(fpr, tpr)"
   ]
  },
  {
   "cell_type": "code",
   "execution_count": 31,
   "id": "1cc34229-b9c9-49ef-b746-613c040255c2",
   "metadata": {},
   "outputs": [
    {
     "name": "stdout",
     "output_type": "stream",
     "text": [
      "Best Threshold=0.793517\n",
      "2\n"
     ]
    }
   ],
   "source": [
    "y_pred1 = y_pred[:, 1]\n",
    "# calculate roc curve\n",
    "fpr, tpr, thresholds = metrics.roc_curve(Y_test, y_pred1)\n",
    "J = tpr - fpr\n",
    "#calculation of index corresponding to the maximum difference of true positive rate and \n",
    "#false positive rate\n",
    "ix = argmax(J)\n",
    "best_thresh = thresholds[ix]\n",
    "print('Best Threshold=%f' % (best_thresh))\n",
    "#decisions is an array of predicted probabilities for X_test for the best threshold\n",
    "decisions = (model.predict_proba(X_test) >= best_thresh).astype(int)\n",
    "decisions=decisions[:, 1]\n",
    "print(argmax(J))"
   ]
  },
  {
   "cell_type": "code",
   "execution_count": 32,
   "id": "bf78f8f8-ae0a-44bd-8caf-090e119dc9c4",
   "metadata": {},
   "outputs": [
    {
     "name": "stdout",
     "output_type": "stream",
     "text": [
      "Classification report for Logistic Regression with tuned hyperparameters\n",
      "------------------------------------------------------------\n",
      "              precision    recall  f1-score   support\n",
      "\n",
      "           0       0.94      1.00      0.97        89\n",
      "           1       1.00      0.89      0.94        54\n",
      "\n",
      "    accuracy                           0.96       143\n",
      "   macro avg       0.97      0.94      0.95       143\n",
      "weighted avg       0.96      0.96      0.96       143\n",
      "\n"
     ]
    }
   ],
   "source": [
    "#making the classification report for Logistic Regression with tuned hyperparameters\n",
    "print(\"Classification report for Logistic Regression with tuned hyperparameters\")\n",
    "print(\"-\"*60)\n",
    "print(classification_report(Y_test, decisions))"
   ]
  },
  {
   "cell_type": "markdown",
   "id": "5c4deade",
   "metadata": {},
   "source": [
    "### K Nearest Neighbors"
   ]
  },
  {
   "cell_type": "code",
   "execution_count": 34,
   "id": "6d25e196-5016-41bc-91b4-626614da8d84",
   "metadata": {},
   "outputs": [],
   "source": [
    "from sklearn.neighbors import KNeighborsClassifier\n",
    "\"\"\" Defining the function that returns the best k value for the K nearest neigbor algorithm\n",
    "The function knn_k_value(K, X_train, Y_train, X_test, Y_test) returns an optimal k value\"\"\"\n",
    "\n",
    "def knn_k_value(K, X_train, Y_train, X_test, Y_test):\n",
    "    score=[]\n",
    "    for n in range(2,K):\n",
    "\n",
    "        #Train Model and Predict  \n",
    "        model=Pipeline([\n",
    "            (\"scale\", StandardScaler()),\n",
    "            (\"knn\", KNeighborsClassifier(n_neighbors = n))\n",
    "        ]).fit(X_train, Y_train)\n",
    "        predicted_labels=model.predict(X_test)\n",
    "        score.append(metrics.accuracy_score(Y_test, predicted_labels))\n",
    "    knn_k_value=score.index(max(score))+2\n",
    "    return knn_k_value\n",
    "k_value=knn_k_value(10, X_train, Y_train, X_test, Y_test)"
   ]
  },
  {
   "cell_type": "code",
   "execution_count": 35,
   "id": "4b920d7e",
   "metadata": {},
   "outputs": [],
   "source": [
    "#K Nearest Neighbors model\n",
    "\n",
    "model=Pipeline([\n",
    "    (\"scale\", StandardScaler()),\n",
    "    (\"knn\", KNeighborsClassifier(n_neighbors = k_value))\n",
    "]).fit(X_train, Y_train)\n",
    "predicted_labels=model.predict(X_test)\n"
   ]
  },
  {
   "cell_type": "code",
   "execution_count": 36,
   "id": "336da319",
   "metadata": {},
   "outputs": [
    {
     "data": {
      "image/png": "[encoded data removed]",
      "text/plain": [
       "<Figure size 720x720 with 2 Axes>"
      ]
     },
     "metadata": {
      "needs_background": "light"
     },
     "output_type": "display_data"
    }
   ],
   "source": [
    "#visualizing the confusion matrix K Nearest Neighbors\n",
    "confusion_matrix_visual(Y_test, predicted_labels, [\"benign\", \"tumor\"])\n",
    "plt.title(\"K Nearest Neighbors Confusion matrix\", fontsize=16)\n",
    "plt.show()"
   ]
  },
  {
   "cell_type": "code",
   "execution_count": 37,
   "id": "d90119a9",
   "metadata": {},
   "outputs": [
    {
     "name": "stdout",
     "output_type": "stream",
     "text": [
      "Classification report for K Nearest Neighbors\n",
      "------------------------------------------------------------\n",
      "              precision    recall  f1-score   support\n",
      "\n",
      "           0       0.95      0.99      0.97        89\n",
      "           1       0.98      0.91      0.94        54\n",
      "\n",
      "    accuracy                           0.96       143\n",
      "   macro avg       0.96      0.95      0.95       143\n",
      "weighted avg       0.96      0.96      0.96       143\n",
      "\n"
     ]
    }
   ],
   "source": [
    "#making the classification report for K Nearest Neighbors\n",
    "from sklearn.metrics import classification_report\n",
    "print(\"Classification report for K Nearest Neighbors\")\n",
    "print(\"-\"*60)\n",
    "print(classification_report(Y_test, predicted_labels))"
   ]
  },
  {
   "cell_type": "markdown",
   "id": "d369a12d",
   "metadata": {},
   "source": [
    "### Naive Bayes"
   ]
  },
  {
   "cell_type": "code",
   "execution_count": 38,
   "id": "2ade55de",
   "metadata": {},
   "outputs": [
    {
     "data": {
      "image/png": "[encoded data removed]",
      "text/plain": [
       "<Figure size 720x720 with 2 Axes>"
      ]
     },
     "metadata": {
      "needs_background": "light"
     },
     "output_type": "display_data"
    }
   ],
   "source": [
    "#Naive Bayes model\n",
    "\n",
    "from sklearn.naive_bayes import GaussianNB\n",
    "classifier = GaussianNB()\n",
    "model=Pipeline([\n",
    "    (\"scale\", StandardScaler()),\n",
    "    (\"NB\", GaussianNB())\n",
    "]).fit(X_train, Y_train)\n",
    "predicted_labels=model.predict(X_test)\n",
    "\n",
    "#visualizing the confusion matrix for Naive Bayes\n",
    "confusion_matrix_visual(Y_test, predicted_labels, [\"benign\", \"tumor\"])\n",
    "plt.title(\"Naive Bayes Confusion matrix\", fontsize=16)\n",
    "plt.show()\n"
   ]
  },
  {
   "cell_type": "code",
   "execution_count": 39,
   "id": "f4b44387",
   "metadata": {},
   "outputs": [
    {
     "name": "stdout",
     "output_type": "stream",
     "text": [
      "Classification report for Naive Bayes\n",
      "------------------------------------------------------------\n",
      "              precision    recall  f1-score   support\n",
      "\n",
      "           0       0.93      0.89      0.91        89\n",
      "           1       0.83      0.89      0.86        54\n",
      "\n",
      "    accuracy                           0.89       143\n",
      "   macro avg       0.88      0.89      0.88       143\n",
      "weighted avg       0.89      0.89      0.89       143\n",
      "\n"
     ]
    }
   ],
   "source": [
    "#Classification report for Naive Bayes\n",
    "\n",
    "print(\"Classification report for Naive Bayes\")\n",
    "print(\"-\"*60)\n",
    "print(classification_report(Y_test, predicted_labels))"
   ]
  },
  {
   "cell_type": "markdown",
   "id": "5e533695-c91b-4a1a-ba6e-28a1ab24a4a0",
   "metadata": {},
   "source": [
    "#### Naive Bayes tuning parameters"
   ]
  },
  {
   "cell_type": "code",
   "execution_count": 40,
   "id": "8bf0cc92-4be9-4f10-9364-08789f5e8815",
   "metadata": {},
   "outputs": [
    {
     "data": {
      "text/plain": [
       "array([1.e+00, 1.e-01, 1.e-02, 1.e-03, 1.e-04, 1.e-05, 1.e-06, 1.e-07,\n",
       "       1.e-08, 1.e-09])"
      ]
     },
     "execution_count": 40,
     "metadata": {},
     "output_type": "execute_result"
    }
   ],
   "source": [
    "np.logspace(0,-9, num=10)"
   ]
  },
  {
   "cell_type": "code",
   "execution_count": 41,
   "id": "a8360b0f-bef0-4b0a-a54c-1c8769311613",
   "metadata": {},
   "outputs": [],
   "source": [
    "cv_method = RepeatedStratifiedKFold(n_splits=5, \n",
    "                                    n_repeats=3, \n",
    "                                    random_state=999)"
   ]
  },
  {
   "cell_type": "code",
   "execution_count": 42,
   "id": "5d892006-3087-42b9-a05b-91578718eef4",
   "metadata": {},
   "outputs": [],
   "source": [
    "params_NB = {'var_smoothing': np.logspace(0,-9, num=100)}"
   ]
  },
  {
   "cell_type": "code",
   "execution_count": 43,
   "id": "d2d0fc87-a7c0-481c-8133-ca8487a177f7",
   "metadata": {},
   "outputs": [
    {
     "name": "stdout",
     "output_type": "stream",
     "text": [
      "              precision    recall  f1-score   support\n",
      "\n",
      "           0       0.93      0.89      0.91        89\n",
      "           1       0.83      0.89      0.86        54\n",
      "\n",
      "    accuracy                           0.89       143\n",
      "   macro avg       0.88      0.89      0.88       143\n",
      "weighted avg       0.89      0.89      0.89       143\n",
      "\n"
     ]
    }
   ],
   "source": [
    "model= Pipeline([(\"scale\",StandardScaler()), \n",
    "                    (\"grid\", GridSearchCV(estimator=GaussianNB(), \n",
    "                           param_grid=params_NB, \n",
    "                           scoring=\"accuracy\", \n",
    "                           refit=True, \n",
    "                           n_jobs=-1, \n",
    "                           cv=cv_method, \n",
    "                           verbose=0))]).fit(X_train, Y_train)\n",
    "\n",
    "\n",
    "predicted_labels=model.predict(X_test)\n",
    "print(classification_report(Y_test, predicted_labels))"
   ]
  },
  {
   "cell_type": "code",
   "execution_count": null,
   "id": "3dcab8d5-e134-4017-a6a4-85d37e0abca5",
   "metadata": {},
   "outputs": [],
   "source": []
  },
  {
   "cell_type": "markdown",
   "id": "61577569",
   "metadata": {},
   "source": [
    "### Decision Tree "
   ]
  },
  {
   "cell_type": "markdown",
   "id": "b3c1b9cc-0f74-488f-a30a-a1af80d60478",
   "metadata": {},
   "source": [
    "#### Tuning Decision Tree parameters"
   ]
  },
  {
   "cell_type": "code",
   "execution_count": 44,
   "id": "a0d15263-a16c-4112-966b-acff0f8a5162",
   "metadata": {},
   "outputs": [],
   "source": [
    "import numpy as np\n",
    "max_depth=list(np.arange(2,11))\n",
    "min_samples_split=list(np.arange(2,11))\n",
    "min_samples_leaf=list(np.arange(2,11))\n",
    "param_dict = {\n",
    "    'max_depth': max_depth,\n",
    "    'min_samples_split': min_samples_split,\n",
    "    'min_samples_leaf': min_samples_leaf\n",
    "}\n"
   ]
  },
  {
   "cell_type": "code",
   "execution_count": 45,
   "id": "a0132bc7-3b24-4378-b934-b97710aac2ba",
   "metadata": {},
   "outputs": [],
   "source": [
    "model= Pipeline([(\"scale\",StandardScaler()), \n",
    "                    (\"random_grid\", RandomizedSearchCV(estimator=DecisionTreeClassifier(random_state=1000), \n",
    "                           param_distributions=param_dict, \n",
    "                           scoring=\"accuracy\", \n",
    "                           refit=True, \n",
    "                           n_jobs=-1, \n",
    "                           cv=5, \n",
    "                           verbose=0))]).fit(X_train, Y_train)\n",
    "\n",
    "\n",
    "predicted_labels=model.predict(X_test)\n"
   ]
  },
  {
   "cell_type": "code",
   "execution_count": 46,
   "id": "21d257b3",
   "metadata": {},
   "outputs": [
    {
     "data": {
      "image/png": "[encoded data removed]",
      "text/plain": [
       "<Figure size 720x720 with 2 Axes>"
      ]
     },
     "metadata": {
      "needs_background": "light"
     },
     "output_type": "display_data"
    }
   ],
   "source": [
    "#visualizing the confusion matrix for Decision Tree\n",
    "confusion_matrix_visual(Y_test, predicted_labels, [\"benign\", \"tumor\"])\n",
    "plt.title(\"Decision Tree Confusion matrix\", fontsize=16)\n",
    "plt.show()"
   ]
  },
  {
   "cell_type": "code",
   "execution_count": 47,
   "id": "06a4f157-bfdb-4b3a-a255-1d6cf63ea838",
   "metadata": {},
   "outputs": [
    {
     "name": "stdout",
     "output_type": "stream",
     "text": [
      "The cross validation score is 0.9296\n",
      "The best hyperparameters are {'min_samples_split': 7, 'min_samples_leaf': 9, 'max_depth': 10}\n",
      "The accuracy score for the train dataset is 0.9601\n",
      "The accuracy score for the test dataset is 0.9091\n"
     ]
    }
   ],
   "source": [
    "# Print the cross validation score for the training dataset\n",
    "print(f'The cross validation score is {model[\"random_grid\"].best_score_:.4f}')\n",
    "\n",
    "# Print the hyperparameters for the best score\n",
    "print(f'The best hyperparameters are {model[\"random_grid\"].best_params_}')\n",
    "\n",
    "# Print the best accuracy score for the testing dataset\n",
    "print(f'The accuracy score for the train dataset is {model[\"random_grid\"].score(model[\"scale\"].fit_transform(X_train), Y_train):.4f}')\n",
    "\n",
    "# Print the best accuracy score for the testing dataset\n",
    "print(f'The accuracy score for the test dataset is {model[\"random_grid\"].score(model[\"scale\"].transform(X_test), Y_test):.4f}')"
   ]
  },
  {
   "cell_type": "code",
   "execution_count": 48,
   "id": "a29e9b06",
   "metadata": {
    "scrolled": true
   },
   "outputs": [
    {
     "name": "stdout",
     "output_type": "stream",
     "text": [
      "Classification report for Decision Tree with tuned hyperparameters\n",
      "------------------------------------------------------------\n",
      "              precision    recall  f1-score   support\n",
      "\n",
      "           0       0.97      0.88      0.92        89\n",
      "           1       0.83      0.96      0.89        54\n",
      "\n",
      "    accuracy                           0.91       143\n",
      "   macro avg       0.90      0.92      0.91       143\n",
      "weighted avg       0.92      0.91      0.91       143\n",
      "\n"
     ]
    }
   ],
   "source": [
    "#Classification report for Decision Tree\n",
    "\n",
    "print(\"Classification report for Decision Tree with tuned hyperparameters\")\n",
    "print(\"-\"*60)\n",
    "print(classification_report(Y_test, predicted_labels))"
   ]
  },
  {
   "cell_type": "markdown",
   "id": "e99f39d5",
   "metadata": {},
   "source": [
    "### Random Forest"
   ]
  },
  {
   "cell_type": "code",
   "execution_count": 49,
   "id": "5a0dda2e",
   "metadata": {},
   "outputs": [],
   "source": [
    "from sklearn.ensemble import RandomForestClassifier\n",
    "classifier = RandomForestClassifier(n_estimators = 500, criterion = 'entropy', random_state = 1000)\n",
    "                                   "
   ]
  },
  {
   "cell_type": "code",
   "execution_count": 50,
   "id": "e394ca47",
   "metadata": {
    "scrolled": true
   },
   "outputs": [],
   "source": [
    "#Random Forest model\n",
    "\n",
    "model=Pipeline([\n",
    "    (\"scale\", StandardScaler()),\n",
    "    (\"Tree\", RandomForestClassifier())\n",
    "]).fit(X_train, Y_train)\n",
    "predicted_labels=model.predict(X_test)\n",
    "\n"
   ]
  },
  {
   "cell_type": "code",
   "execution_count": 51,
   "id": "a5a8a3f9",
   "metadata": {},
   "outputs": [
    {
     "data": {
      "image/png": "[encoded data removed]",
      "text/plain": [
       "<Figure size 720x720 with 2 Axes>"
      ]
     },
     "metadata": {
      "needs_background": "light"
     },
     "output_type": "display_data"
    }
   ],
   "source": [
    "#visualizing the confusion matrix for Random Forest\n",
    "confusion_matrix_visual(Y_test, predicted_labels, [\"benign\", \"tumor\"])\n",
    "plt.title(\"Random Forest Confusion matrix\", fontsize=16)\n",
    "plt.show()"
   ]
  },
  {
   "cell_type": "code",
   "execution_count": 52,
   "id": "e2bc3569",
   "metadata": {
    "scrolled": true
   },
   "outputs": [
    {
     "name": "stdout",
     "output_type": "stream",
     "text": [
      "Classification report for Random Forest\n",
      "------------------------------------------------------------\n",
      "              precision    recall  f1-score   support\n",
      "\n",
      "           0       0.96      0.91      0.94        89\n",
      "           1       0.86      0.94      0.90        54\n",
      "\n",
      "    accuracy                           0.92       143\n",
      "   macro avg       0.91      0.93      0.92       143\n",
      "weighted avg       0.93      0.92      0.92       143\n",
      "\n"
     ]
    }
   ],
   "source": [
    "#Classification report for Random Forest\n",
    "\n",
    "print(\"Classification report for Random Forest\")\n",
    "print(\"-\"*60)\n",
    "print(classification_report(Y_test, predicted_labels))"
   ]
  },
  {
   "cell_type": "code",
   "execution_count": 53,
   "id": "d6a696ce",
   "metadata": {},
   "outputs": [
    {
     "data": {
      "text/html": [
       "<div>\n",
       "<style scoped>\n",
       "    .dataframe tbody tr th:only-of-type {\n",
       "        vertical-align: middle;\n",
       "    }\n",
       "\n",
       "    .dataframe tbody tr th {\n",
       "        vertical-align: top;\n",
       "    }\n",
       "\n",
       "    .dataframe thead th {\n",
       "        text-align: right;\n",
       "    }\n",
       "</style>\n",
       "<table border=\"1\" class=\"dataframe\">\n",
       "  <thead>\n",
       "    <tr style=\"text-align: right;\">\n",
       "      <th></th>\n",
       "      <th>Logistic Regression</th>\n",
       "      <th>KNN</th>\n",
       "      <th>Naive Bayes</th>\n",
       "      <th>Decision Tree</th>\n",
       "      <th>Random Forest</th>\n",
       "      <th>SVM</th>\n",
       "    </tr>\n",
       "  </thead>\n",
       "  <tbody>\n",
       "    <tr>\n",
       "      <th>recall=0</th>\n",
       "      <td>1.00</td>\n",
       "      <td>0.99</td>\n",
       "      <td>0.89</td>\n",
       "      <td>0.89</td>\n",
       "      <td>0.91</td>\n",
       "      <td>0.98</td>\n",
       "    </tr>\n",
       "    <tr>\n",
       "      <th>recall=1</th>\n",
       "      <td>0.89</td>\n",
       "      <td>0.91</td>\n",
       "      <td>0.89</td>\n",
       "      <td>0.96</td>\n",
       "      <td>0.94</td>\n",
       "      <td>0.89</td>\n",
       "    </tr>\n",
       "    <tr>\n",
       "      <th>accuracy</th>\n",
       "      <td>0.96</td>\n",
       "      <td>0.96</td>\n",
       "      <td>0.89</td>\n",
       "      <td>0.92</td>\n",
       "      <td>0.92</td>\n",
       "      <td>0.94</td>\n",
       "    </tr>\n",
       "  </tbody>\n",
       "</table>\n",
       "</div>"
      ],
      "text/plain": [
       "          Logistic Regression   KNN  Naive Bayes  Decision Tree  \\\n",
       "recall=0                 1.00  0.99         0.89           0.89   \n",
       "recall=1                 0.89  0.91         0.89           0.96   \n",
       "accuracy                 0.96  0.96         0.89           0.92   \n",
       "\n",
       "          Random Forest   SVM  \n",
       "recall=0           0.91  0.98  \n",
       "recall=1           0.94  0.89  \n",
       "accuracy           0.92  0.94  "
      ]
     },
     "execution_count": 53,
     "metadata": {},
     "output_type": "execute_result"
    }
   ],
   "source": [
    "#making the df_report dataframe containing evaluation metrics for all models used in this research\n",
    "d={\"Logistic Regression\":[1.00, 0.89, 0.96], \"KNN\":[0.99, 0.91, 0.96], \"Naive Bayes\":[0.89, 0.89, 0.89],\n",
    "                       \"Decision Tree\":[0.89, 0.96, 0.92], \"Random Forest\":[0.91, 0.94, 0.92], \"SVM\":[0.98, 0.89, 0.94]}\n",
    "df_report=pd.DataFrame(d, index=[\"recall=0\", \"recall=1\", \"accuracy\"])\n",
    "df_report\n"
   ]
  },
  {
   "cell_type": "markdown",
   "id": "c92daf4e-6f18-4e57-9681-32c9b7ca7328",
   "metadata": {},
   "source": [
    "Conclusion: The highest accuracy (0.96) show the logistic regression model and knn,\n",
    "while highest recall (malignant tumor) 0.96 shows the decision tree model. Since the goal is\n",
    "to predict breast cancer that the decision tree model shows the best performance\n",
    "in terms of prediction malignant tumor"
   ]
  },
  {
   "cell_type": "code",
   "execution_count": null,
   "id": "55163666",
   "metadata": {},
   "outputs": [],
   "source": []
  },
  {
   "cell_type": "code",
   "execution_count": null,
   "id": "a96b658b",
   "metadata": {},
   "outputs": [],
   "source": []
  },
  {
   "cell_type": "code",
   "execution_count": null,
   "id": "fa2c7e93-4090-4079-b58e-6e30751bb31a",
   "metadata": {},
   "outputs": [],
   "source": []
  }
 ],
 "metadata": {
  "kernelspec": {
   "display_name": "Python 3 (ipykernel)",
   "language": "python",
   "name": "python3"
  },
  "language_info": {
   "codemirror_mode": {
    "name": "ipython",
    "version": 3
   },
   "file_extension": ".py",
   "mimetype": "text/x-python",
   "name": "python",
   "nbconvert_exporter": "python",
   "pygments_lexer": "ipython3",
   "version": "3.9.12"
  }
 },
 "nbformat": 4,
 "nbformat_minor": 5
}
